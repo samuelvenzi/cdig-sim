{
 "cells": [
  {
   "cell_type": "code",
   "execution_count": 1,
   "metadata": {},
   "outputs": [
    {
     "data": {
      "text/plain": [
       "'/Users/samuelvenzi/anaconda3/bin:/Users/samuelvenzi/.nvm/versions/node/v14.5.0/bin:/Users/samuelvenzi/fabric-samples/bin:/usr/local/bin:/usr/bin:/bin:/usr/sbin:/sbin:/Library/TeX/texbin:/usr/local/go/bin'"
      ]
     },
     "execution_count": 1,
     "metadata": {},
     "output_type": "execute_result"
    }
   ],
   "source": [
    "import control\n",
    "import matplotlib.pyplot as plt\n",
    "import math\n",
    "import os\n",
    "os.environ['PATH']"
   ]
  },
  {
   "cell_type": "markdown",
   "metadata": {},
   "source": [
    "# Exercício de Simulação 1 - Controle Digital\n",
    "Samuel Venzi Lima Monteiro de Oliveira - 14/0162241\n",
    "\n",
    "**Texto do exercício**\n",
    "\n",
    "*Considere um sistema de controle a tempo discreto com realimentação unitária e período de amostragem $T = 1s$ cuja função de transferência a malha aberta é dada por*\n",
    "\n",
    "<center>$G(z) = \\frac{K(0,3679z+0,2642)}{(z-1)(z-0,3679)}$<center/>\n",
    "    \n",
    "Primeiramente vamos achar a equação de malha fechada do sistema:\n",
    "    \n",
    "<img src=\"malha-fechada.png\">\n",
    "    \n",
    "**1) Usando o critério de Jury, determine o valor para qual o sistema a malha fechada é estável;**\n",
    "\n",
    "<img src=\"criterio-juri.png\">\n",
    "    \n",
    "\n",
    "**2) Repita o item anterior usando o critério de Routh modificado;**\n",
    "\n",
    "<img src=\"routh-1.png\">\n",
    "<img src=\"routh-2.png\">\n",
    "\n",
    "**3) Determine o valor de K para o qual o sistema a malha fechada apresenta resposta ao degrau oscilatória com amplitude constante. Determine também a frequência de oscilação correspondente;**\n",
    "\n"
   ]
  },
  {
   "cell_type": "markdown",
   "metadata": {},
   "source": [
    "Como visto anteriormente, se usarmos $K = 2.39$ teremos as raízes do sistema no círculo de raio unitário (CRU) o que configura um sistema marginalmente estável, com oscilações de amplitude constante (como será observado a seguir nas simulações).\n",
    "\n",
    "Se substituirmos $K = 2.39$ na equação característica $P(z)=z^{2} + z(0.3679K - 1.3679) + 0.2642K + 0.3679$ teremos $P(z)=z^{2} + 0.5186z + 1$ cujo as raízes são $z_{1}=0.244309 - 0.969356j$ e $z_{2}=0.244309 + 0.969356j$. Portando, podemos fazer $tan^{-1}(0.9693/0.2443) =  1.3239$ para achar o $\\omega_{n}$.\n"
   ]
  },
  {
   "cell_type": "markdown",
   "metadata": {},
   "source": [
    "**4) Simule o sistema no Simulink (ou software similar) usando o bloco de função de transferência discreta para referência degrau unitário. Escolha valores de K de modo que a resposta do sistema seja estável, instável e marginalmente estável. Verifique se a frequência de oscilação da resposta marginalmente estável é igual a calculada no item anterior. Apresente o diagrama de simulação e os gráficos das respostas obtidas.**\n",
    "    \n",
    "A simulação foi realizada com a biblioteca *open source* `control` disponível para Python pela indisponibilidade do MATLAB no momento. \n",
    "    \n",
    "Foi realizada a simulação da resposta ao degrau unitário para `K = -1, 0.5, 1, 2.39, 5` e é possível observar o mesmo que os critérios de Juri e de Routh modificado mostraram. O sistema é marginalmente estável para $K = 2.39$ e estável para $0 < K < 2.39$. Também é possível observar abaixo de cada gráfico, a localização dos polos e o valores de $\\omega_n$. Quando o sistema é marginalmente estável, o valor de $\\omega_n = 1.32rad/s$ como calculado no item anterior."
   ]
  },
  {
   "cell_type": "code",
   "execution_count": 1,
   "metadata": {},
   "outputs": [
    {
     "ename": "NameError",
     "evalue": "name 'control' is not defined",
     "output_type": "error",
     "traceback": [
      "\u001b[0;31m---------------------------------------------------------------------------\u001b[0m",
      "\u001b[0;31mNameError\u001b[0m                                 Traceback (most recent call last)",
      "\u001b[0;32m<ipython-input-1-f4309c343488>\u001b[0m in \u001b[0;36m<module>\u001b[0;34m\u001b[0m\n\u001b[1;32m      1\u001b[0m \u001b[0;31m# Determinando a FT em malha fechada\u001b[0m\u001b[0;34m\u001b[0m\u001b[0;34m\u001b[0m\u001b[0;34m\u001b[0m\u001b[0m\n\u001b[0;32m----> 2\u001b[0;31m \u001b[0mz\u001b[0m \u001b[0;34m=\u001b[0m \u001b[0mcontrol\u001b[0m\u001b[0;34m.\u001b[0m\u001b[0mTransferFunction\u001b[0m\u001b[0;34m.\u001b[0m\u001b[0mz\u001b[0m\u001b[0;34m\u001b[0m\u001b[0;34m\u001b[0m\u001b[0m\n\u001b[0m\u001b[1;32m      3\u001b[0m \u001b[0mk_values\u001b[0m \u001b[0;34m=\u001b[0m \u001b[0;34m[\u001b[0m\u001b[0;34m-\u001b[0m\u001b[0;36m1\u001b[0m\u001b[0;34m,\u001b[0m \u001b[0;36m0.1\u001b[0m\u001b[0;34m,\u001b[0m \u001b[0;36m0.2\u001b[0m\u001b[0;34m,\u001b[0m \u001b[0;36m0.3\u001b[0m \u001b[0;34m,\u001b[0m \u001b[0;36m0.4\u001b[0m\u001b[0;34m,\u001b[0m \u001b[0;36m0.5\u001b[0m\u001b[0;34m,\u001b[0m \u001b[0;36m1\u001b[0m\u001b[0;34m,\u001b[0m \u001b[0;36m2.39\u001b[0m\u001b[0;34m,\u001b[0m \u001b[0;36m5\u001b[0m\u001b[0;34m]\u001b[0m\u001b[0;34m\u001b[0m\u001b[0;34m\u001b[0m\u001b[0m\n\u001b[1;32m      4\u001b[0m \u001b[0;34m\u001b[0m\u001b[0m\n\u001b[1;32m      5\u001b[0m \u001b[0;32mfor\u001b[0m \u001b[0mk\u001b[0m \u001b[0;32min\u001b[0m \u001b[0mk_values\u001b[0m\u001b[0;34m:\u001b[0m\u001b[0;34m\u001b[0m\u001b[0;34m\u001b[0m\u001b[0m\n",
      "\u001b[0;31mNameError\u001b[0m: name 'control' is not defined"
     ]
    }
   ],
   "source": [
    "# Determinando a FT em malha fechada\n",
    "z = control.TransferFunction.z\n",
    "k_values = [-1, 0.1, 0.2, 0.3 , 0.4, 0.5, 1, 2.39, 5]\n",
    "\n",
    "for k in k_values:\n",
    "    tf = (k*(0.3679*z + 0.2642))/((z-1)*(z-0.3679))\n",
    "    tf = control.TransferFunction.feedback(tf)\n",
    "\n",
    "    # Mostrar gráfico\n",
    "    plt.figure(1)\n",
    "    title = \"K = \" + str(k) \n",
    "    plt.title(title)\n",
    "    plt.xlim(0, 100)\n",
    "    T, yout = control.step_response(tf, range(0, 100))\n",
    "    plt.step(T.T, yout.T)\n",
    "    plt.show(block=False)\n",
    "    control.damp(tf, True)"
   ]
  },
  {
   "cell_type": "code",
   "execution_count": null,
   "metadata": {},
   "outputs": [],
   "source": []
  },
  {
   "cell_type": "code",
   "execution_count": null,
   "metadata": {},
   "outputs": [],
   "source": []
  }
 ],
 "metadata": {
  "kernelspec": {
   "display_name": "Python 3",
   "language": "python",
   "name": "python3"
  },
  "language_info": {
   "codemirror_mode": {
    "name": "ipython",
    "version": 3
   },
   "file_extension": ".py",
   "mimetype": "text/x-python",
   "name": "python",
   "nbconvert_exporter": "python",
   "pygments_lexer": "ipython3",
   "version": "3.8.3"
  }
 },
 "nbformat": 4,
 "nbformat_minor": 4
}
